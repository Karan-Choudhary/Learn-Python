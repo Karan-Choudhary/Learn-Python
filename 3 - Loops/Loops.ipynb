{
 "cells": [
  {
   "attachments": {},
   "cell_type": "markdown",
   "metadata": {},
   "source": [
    "## Loops in Python \n",
    "We use loops to execute a set of statements repeatedly when some conditions are met. In Python programming language, we have the following types of loops to handle looping requirements.\n",
    "* While loop\n",
    "* For loop\n",
    "* Nested loops"
   ]
  },
  {
   "attachments": {},
   "cell_type": "markdown",
   "metadata": {},
   "source": [
    "1. While Loop - The while loop in Python is used to iterate over a block of code as long as the test expression (condition) is true.\n",
    "\n",
    "2. For Loop - The for loop in Python is used to iterate over a sequence (list, tuple, string) or other iterable objects. Iterating over a sequence is called traversal.\n",
    "\n",
    "3. Nested Loops - A nested loop is a loop inside a loop. The \"inner loop\" will be executed one time for each iteration of the \"outer loop\"."
   ]
  },
  {
   "attachments": {},
   "cell_type": "markdown",
   "metadata": {},
   "source": [
    "### 1. While Loop\n",
    "A while loop statement in Python programming language repeatedly executes a target statement as long as a given condition is true. When the condition becomes false, program control passes to the line immediately following the loop.\n",
    "\n",
    "\n",
    "Indentation is very important in Python. The body of the loop is indicated by the indentation. Body starts with an indentation and the first unindented line marks the end. The amount of indentation is up to you, but it must be consistent throughout that block. Generally four whitespaces are used for indentation and is preferred over tabs.\n",
    "\n",
    "\n",
    "SYNTAX\n",
    "\n",
    "    while test_expression:\n",
    "        Body of while"
   ]
  },
  {
   "cell_type": "code",
   "execution_count": 18,
   "metadata": {},
   "outputs": [
    {
     "name": "stdout",
     "output_type": "stream",
     "text": [
      "1\n",
      "2\n",
      "3\n"
     ]
    }
   ],
   "source": [
    "print(1)\n",
    "print(2)\n",
    "print(3)"
   ]
  },
  {
   "cell_type": "code",
   "execution_count": 4,
   "metadata": {},
   "outputs": [
    {
     "name": "stdout",
     "output_type": "stream",
     "text": [
      "1\n",
      "2\n",
      "3\n",
      "4\n",
      "5\n",
      "6\n",
      "7\n",
      "8\n",
      "9\n",
      "10\n"
     ]
    }
   ],
   "source": [
    "# Simple While Loop\n",
    "# Let's create a simple while loop that prints out the numbers 1 to 10\n",
    "\n",
    "x = 1\n",
    "\n",
    "# 11 < 10 -> False || 11 == 10 ->False\n",
    "while(x <= 10):\n",
    "    # wait for 2 seconds\n",
    "    print(x)\n",
    "    x += 1 # x = x+1"
   ]
  },
  {
   "cell_type": "code",
   "execution_count": 21,
   "metadata": {},
   "outputs": [
    {
     "name": "stdout",
     "output_type": "stream",
     "text": [
      "1\n"
     ]
    }
   ],
   "source": [
    "x = 1\n",
    "\n",
    "print(x%2)"
   ]
  },
  {
   "cell_type": "code",
   "execution_count": 20,
   "metadata": {},
   "outputs": [
    {
     "name": "stdout",
     "output_type": "stream",
     "text": [
      "1  - odd\n",
      "2  - even\n",
      "3  - odd\n",
      "4  - even\n",
      "5  - odd\n",
      "6  - even\n",
      "7  - odd\n",
      "8  - even\n",
      "9  - odd\n",
      "10  - even\n"
     ]
    }
   ],
   "source": [
    "# Putting some if else statements in the while loop\n",
    "# Let's print out the numbers 1 to 10, but if the number is even, print out \"even\", if the number is odd, print out \"odd\"\n",
    "\n",
    "# if -> if the condition is true, do something\n",
    "# else -> if the condition is false, do something\n",
    "\n",
    "x = 1\n",
    "while(x <= 10):\n",
    "    if(x % 2 == 0):\n",
    "        print(x,\" - even\")\n",
    "    else:\n",
    "        print(x,\" - odd\")\n",
    "    x += 1"
   ]
  },
  {
   "attachments": {},
   "cell_type": "markdown",
   "metadata": {},
   "source": [
    "### 2. For Loop\n",
    "A for loop is used for iterating over a sequence (that is either a list, a tuple, a dictionary, a set, or a string) or range. This is less like the for keyword in other programming languages, and works more like an iterator method as found in other object-orientated programming languages.\n",
    "\n",
    "\n",
    "SYNTAX\n",
    "\n",
    "    for item in object:\n",
    "        statements to do stuff"
   ]
  },
  {
   "cell_type": "code",
   "execution_count": 22,
   "metadata": {},
   "outputs": [
    {
     "name": "stdout",
     "output_type": "stream",
     "text": [
      "1\n",
      "2\n",
      "3\n",
      "4\n",
      "5\n",
      "6\n",
      "7\n",
      "8\n",
      "9\n",
      "10\n"
     ]
    }
   ],
   "source": [
    "# For Loops\n",
    "# Let's create a simple for loop that prints out the numbers 1 to 10\n",
    "#  12 3 4 5 6 7 8 9 10\n",
    "for x in range(1,11):\n",
    "    print(x)"
   ]
  },
  {
   "cell_type": "code",
   "execution_count": 23,
   "metadata": {},
   "outputs": [
    {
     "name": "stdout",
     "output_type": "stream",
     "text": [
      "John\n",
      "Mary\n",
      "Bob\n",
      "Molly\n"
     ]
    }
   ],
   "source": [
    "# using for loop to iterate through a list | for loop as an iterator\n",
    "\n",
    "names = [\"John\",\"Mary\",\"Bob\",\"Molly\"]\n",
    "\n",
    "for name in names:\n",
    "    print(name)"
   ]
  },
  {
   "cell_type": "code",
   "execution_count": 24,
   "metadata": {},
   "outputs": [
    {
     "name": "stdout",
     "output_type": "stream",
     "text": [
      "0\n",
      "John\n",
      "1\n",
      "Mary\n",
      "2\n",
      "Bob\n",
      "3\n",
      "Molly\n"
     ]
    }
   ],
   "source": [
    "# for loop iterating with index\n",
    "#                   0           1            2         3\n",
    "names = [\"John\",\"Mary\",\"Bob\",\"Molly\"]\n",
    "\n",
    "for index in range(len(names)):\n",
    "    print(index)\n",
    "    print(names[index])"
   ]
  },
  {
   "attachments": {},
   "cell_type": "markdown",
   "metadata": {},
   "source": [
    "### 3. Nested Loops\n",
    "Nested loops are loops inside loops. The \"inner loop\" will be executed one time for each iteration of the \"outer loop\".\n",
    "\n",
    "SYNTAX - Nested For Loop\n",
    "\n",
    "    for iterating_var in sequence:\n",
    "       for iterating_var in sequence:\n",
    "          statements(s)\n",
    "       statements(s)\n",
    "\n",
    "\n",
    "SYNTAX - Nested While Loop\n",
    "   \n",
    "      while expression:\n",
    "          while expression:\n",
    "            statement(s)\n",
    "          statement(s)\n",
    "\n",
    "\n",
    "SYNTAX - Nested For Loop and While Loop\n",
    "\n",
    "    for iterating_var in sequence:\n",
    "       while expression:\n",
    "          statement(s)\n",
    "       statement(s)"
   ]
  },
  {
   "cell_type": "code",
   "execution_count": 9,
   "metadata": {},
   "outputs": [
    {
     "name": "stdout",
     "output_type": "stream",
     "text": [
      "1 x 1 = 1\n",
      "1 x 2 = 2\n",
      "1 x 3 = 3\n",
      "1 x 4 = 4\n",
      "1 x 5 = 5\n",
      "1 x 6 = 6\n",
      "1 x 7 = 7\n",
      "1 x 8 = 8\n",
      "1 x 9 = 9\n",
      "1 x 10 = 10\n",
      "2 x 1 = 2\n",
      "2 x 2 = 4\n",
      "2 x 3 = 6\n",
      "2 x 4 = 8\n",
      "2 x 5 = 10\n",
      "2 x 6 = 12\n",
      "2 x 7 = 14\n",
      "2 x 8 = 16\n",
      "2 x 9 = 18\n",
      "2 x 10 = 20\n",
      "3 x 1 = 3\n",
      "3 x 2 = 6\n",
      "3 x 3 = 9\n",
      "3 x 4 = 12\n",
      "3 x 5 = 15\n",
      "3 x 6 = 18\n",
      "3 x 7 = 21\n",
      "3 x 8 = 24\n",
      "3 x 9 = 27\n",
      "3 x 10 = 30\n"
     ]
    }
   ],
   "source": [
    "# Let's take an example of nested for loops\n",
    "# Let's print out the multiplication table for 1 to 3 using nested for loops and store the results in a list\n",
    "\n",
    "\n",
    "for x in range(1,4): # 3\n",
    "    for y in range(1,11): # 10\n",
    "        print(x,\"x\",y,\"=\",x*y)"
   ]
  },
  {
   "attachments": {},
   "cell_type": "markdown",
   "metadata": {},
   "source": [
    "###  Loop Control Statements\n",
    "Loop control statements change execution from its normal sequence. When execution leaves a scope, all automatic objects that were created in that scope are destroyed. Python supports the following control statements.\n",
    "* break statement - Terminates the loop statement and transfers execution to the statement immediately following the loop.\n",
    "* continue statement - Causes the loop to skip the remainder of its body and immediately retest its condition prior to reiterating.\n",
    "* pass statement - The pass statement in Python is used when a statement is required syntactically but you do not want any command or code to execute.\n"
   ]
  },
  {
   "cell_type": "code",
   "execution_count": 10,
   "metadata": {},
   "outputs": [
    {
     "name": "stdout",
     "output_type": "stream",
     "text": [
      "1\n",
      "2\n",
      "3\n",
      "4\n"
     ]
    }
   ],
   "source": [
    "# Break Statement - Breaks out of the current closest enclosing loop\n",
    "\n",
    "for x in range(1,11):\n",
    "    if(x == 5):\n",
    "        break\n",
    "    else:\n",
    "        print(x)"
   ]
  },
  {
   "cell_type": "code",
   "execution_count": 11,
   "metadata": {},
   "outputs": [
    {
     "name": "stdout",
     "output_type": "stream",
     "text": [
      "1\n",
      "2\n",
      "3\n",
      "4\n",
      "6\n",
      "7\n",
      "8\n",
      "9\n",
      "10\n"
     ]
    }
   ],
   "source": [
    "# Continue Statement - Skip the current iteration of the loop and continue with the next iteration\n",
    "\n",
    "for x in range(1,11):\n",
    "    if(x == 5):\n",
    "        continue\n",
    "    else:\n",
    "        print(x)\n"
   ]
  },
  {
   "cell_type": "code",
   "execution_count": 12,
   "metadata": {},
   "outputs": [
    {
     "name": "stdout",
     "output_type": "stream",
     "text": [
      "10\n"
     ]
    }
   ],
   "source": [
    "# Pass Statement - Does nothing at all\n",
    "# Pass is also used for empty control statements, functions and classes.\n",
    "\n",
    "for x in range(1,11):\n",
    "    pass\n",
    "\n",
    "print(x)"
   ]
  },
  {
   "attachments": {},
   "cell_type": "markdown",
   "metadata": {},
   "source": [
    "### For loop on a list, tuple, set, dictionary and string"
   ]
  },
  {
   "cell_type": "code",
   "execution_count": 13,
   "metadata": {},
   "outputs": [
    {
     "name": "stdout",
     "output_type": "stream",
     "text": [
      "1\n",
      "2\n",
      "3\n",
      "4\n",
      "5\n",
      "===============\n",
      "1\n",
      "2\n",
      "3\n",
      "4\n",
      "5\n"
     ]
    }
   ],
   "source": [
    "# for loop on list\n",
    "\n",
    "lis = [1,2,3,4,5]\n",
    "\n",
    "for x in lis:\n",
    "    print(x)\n",
    "\n",
    "print(\"===============\")\n",
    "\n",
    "for x in range(len(lis)):\n",
    "    print(lis[x])"
   ]
  },
  {
   "cell_type": "code",
   "execution_count": 15,
   "metadata": {},
   "outputs": [
    {
     "name": "stdout",
     "output_type": "stream",
     "text": [
      "name : John\n",
      "age : 30\n",
      "city : New York\n",
      "========================\n",
      "name: John\n",
      "age: 30\n",
      "city: New York\n",
      "========================\n",
      "John\n",
      "30\n",
      "New York\n"
     ]
    }
   ],
   "source": [
    "# for loop on dictionary\n",
    "\n",
    "dictionary = {\"name\":\"John\",\"age\":30,\"city\":\"New York\"}\n",
    "\n",
    "# using key and value\n",
    "for key,value in dictionary.items():\n",
    "    print(key,\":\",value)\n",
    "    \n",
    "print(\"========================\")\n",
    "\n",
    "# using key\n",
    "for key in dictionary.keys():\n",
    "    print(key + \":\",dictionary[key])\n",
    "    \n",
    "print(\"========================\")\n",
    "\n",
    "# using value\n",
    "for value in dictionary.values():\n",
    "    print(value)"
   ]
  },
  {
   "cell_type": "code",
   "execution_count": null,
   "metadata": {},
   "outputs": [],
   "source": []
  }
 ],
 "metadata": {
  "kernelspec": {
   "display_name": "Python 3",
   "language": "python",
   "name": "python3"
  },
  "language_info": {
   "codemirror_mode": {
    "name": "ipython",
    "version": 3
   },
   "file_extension": ".py",
   "mimetype": "text/x-python",
   "name": "python",
   "nbconvert_exporter": "python",
   "pygments_lexer": "ipython3",
   "version": "3.10.7"
  },
  "orig_nbformat": 4,
  "vscode": {
   "interpreter": {
    "hash": "369f2c481f4da34e4445cda3fffd2e751bd1c4d706f27375911949ba6bb62e1c"
   }
  }
 },
 "nbformat": 4,
 "nbformat_minor": 2
}
