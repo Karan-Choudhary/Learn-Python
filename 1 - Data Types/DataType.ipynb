{
 "cells": [
  {
   "attachments": {},
   "cell_type": "markdown",
   "metadata": {},
   "source": [
    "# What is Python ?\n",
    "Python is a cross-platform programming language, which means that it can run on multiple platforms like Windows, macOS, Linux, and has even been ported to the Java and .NET virtual machines. It is free and open-source.\n",
    "\n",
    "# Why Python ?\n",
    "Python is a great language for beginners. It is easy to learn, easy to use, and has a huge community and lots of resources for learning. It is used in a wide variety of domains, including web development, data science, software development, and more."
   ]
  },
  {
   "attachments": {},
   "cell_type": "markdown",
   "metadata": {},
   "source": [
    "## Python Data Types\n",
    "Python has the following data types built-in by default, in these categories:\n",
    "\n",
    "* Text Type: str\n",
    "* Numeric Types: int, float, complex\n",
    "* Sequence Types: list, tuple\n",
    "* Mapping Type: dict\n",
    "* Set Types: set, frozenset\n",
    "* Boolean Type: bool\n",
    "* Binary Types: bytes, bytearray, memoryview\n"
   ]
  },
  {
   "cell_type": "code",
   "execution_count": 47,
   "metadata": {},
   "outputs": [
    {
     "name": "stdout",
     "output_type": "stream",
     "text": [
      "hello\n",
      "<class 'str'>\n"
     ]
    }
   ],
   "source": [
    "# Text Type : str\n",
    "string = \"Hello World\"\n",
    "string = 'hello'\n",
    "print(string)\n",
    "print(type(string))"
   ]
  },
  {
   "cell_type": "code",
   "execution_count": 48,
   "metadata": {},
   "outputs": [
    {
     "name": "stdout",
     "output_type": "stream",
     "text": [
      "10\n",
      "<class 'int'>\n",
      "10.5\n",
      "<class 'float'>\n",
      "(1+2j)\n",
      "<class 'complex'>\n"
     ]
    }
   ],
   "source": [
    "# Numeric Type : int, float, complex\n",
    "# Integer type is a whole number and it is used to represent the integer numbers.\n",
    "integer = 10\n",
    "print(integer)\n",
    "print(type(integer))\n",
    "\n",
    "# Float type is a real number with floating point representation and it is used to represent the real numbers.\n",
    "float_number = 10.5\n",
    "print(float_number)\n",
    "print(type(float_number))\n",
    "\n",
    "# Complex type is a number represented in the form of a real number and an imaginary number.\n",
    "complex_number = 1+2j\n",
    "print(complex_number)\n",
    "print(type(complex_number))"
   ]
  },
  {
   "cell_type": "code",
   "execution_count": 49,
   "metadata": {},
   "outputs": [
    {
     "name": "stdout",
     "output_type": "stream",
     "text": [
      "[1, 2, 3, 4, 5]\n",
      "<class 'list'>\n",
      "cont:  [1, 2, 3, 4, 5, 6, 7, 8, 9, 10]\n",
      "rep:  [1, 2, 3, 4, 5, 1, 2, 3, 4, 5]\n",
      "mem:  True\n",
      "itr:  [1, 2, 3, 4, 5]\n",
      "sliced:  [1, 2]\n",
      "length:  5\n",
      "maxi:  5\n",
      "mini:  1\n",
      "[10, 2, 3, 4, 5]\n"
     ]
    }
   ],
   "source": [
    "# Sequence Type : list, tuple, range\n",
    "\n",
    "# List type is a collection which is ordered and changeable. It allows duplicate members.\n",
    "list_l = [1,2,3,4,5]\n",
    "print(list_l)\n",
    "print(type(list_l))\n",
    "\n",
    "# Operation on list\n",
    "list_1 = [1,2,3,4,5]\n",
    "list_2 = [6,7,8,9,10]\n",
    "\n",
    "# Concatenation -> It is used to join two or more lists.\n",
    "cont = list_1 + list_2\n",
    "print(\"cont: \", cont)\n",
    "\n",
    "#  Repetition -> It is used to repeat the elements of a list for the given number of times.\n",
    "rep = list_1 * 2\n",
    "print(\"rep: \", rep)\n",
    "\n",
    "# Membership -> It is used to test whether an item exists in a list or not.\n",
    "mem = 1 in list_1\n",
    "print(\"mem: \", mem)\n",
    "\n",
    "# Iteration -> It is used to iterate over each item in a list.\n",
    "itr = [x for x in list_1]\n",
    "print(\"itr: \", itr)\n",
    "\n",
    "# Slicing -> It is used to access a range of items in a list by using the slicing operator (colon).\n",
    "sliced = list_1[0:2]\n",
    "print(\"sliced: \", sliced)\n",
    "\n",
    "# Length -> It is used to find the length of a list.\n",
    "length = len(list_1)\n",
    "print(\"length: \", length)\n",
    "\n",
    "# Maximum -> It is used to find the maximum value in a list.\n",
    "maxi = max(list_1)\n",
    "print(\"maxi: \", maxi)\n",
    "\n",
    "# minimum -> It is used to find the minimum value in a list.\n",
    "mini = min(list_1)\n",
    "print(\"mini: \", mini)\n",
    "\n",
    "# we can change the value of the list\n",
    "list_1[0] = 10\n",
    "print(list_1)"
   ]
  },
  {
   "cell_type": "code",
   "execution_count": 13,
   "metadata": {},
   "outputs": [
    {
     "name": "stdout",
     "output_type": "stream",
     "text": [
      "(1, 2, 3, 4, 5)\n",
      "<class 'tuple'>\n",
      "con:  (1, 2, 3, 4, 5, 6, 7, 8, 9, 10)\n",
      "rep:  (1, 2, 3, 4, 5, 1, 2, 3, 4, 5)\n",
      "mem:  True\n",
      "itr:  [1, 2, 3, 4, 5]\n",
      "sliced:  (1, 2)\n",
      "length:  5\n",
      "maxi:  5\n",
      "mini:  1\n"
     ]
    }
   ],
   "source": [
    "# Tuple type is a collection which is ordered and unchangeable. It allows duplicate members.\n",
    "tup = (1,2,3,4,5)\n",
    "print(tup)\n",
    "print(type(tup))\n",
    "\n",
    "# Operation on tuple:\n",
    "tup1 = (1,2,3,4,5)\n",
    "tup2 = (6,7,8,9,10)\n",
    "\n",
    "# Concatenation -> It is used to join two or more tuples.\n",
    "con = tup1 + tup2\n",
    "print(\"con: \", con)\n",
    "\n",
    "# Repetition -> It is used to repeat the elements of a tuple for the given number of times.\n",
    "rep = tup1 * 2\n",
    "print(\"rep: \", rep)\n",
    "\n",
    "# Membership -> It is used to test whether an item exists in a tuple or not.\n",
    "mem = 1 in tup1\n",
    "print(\"mem: \", mem)\n",
    "\n",
    "# Iteration -> It is used to iterate over each item in a tuple.\n",
    "itr = [x for x in tup1]\n",
    "print(\"itr: \", itr)\n",
    "\n",
    "# Slicing -> It is used to access a range of items in a tuple by using the slicing operator (colon).\n",
    "sliced = tup1[0:2]\n",
    "print(\"sliced: \", sliced)\n",
    "\n",
    "# Length -> It is used to find the length of a tuple.\n",
    "length = len(tup1)\n",
    "print(\"length: \", length)\n",
    "\n",
    "# Maximum -> It is used to find the maximum value in a tuple.\n",
    "maxi = max(tup1)\n",
    "print(\"maxi: \", maxi)\n",
    "\n",
    "# Minimum -> It is used to find the minimum value in a tuple.\n",
    "mini = min(tup1)\n",
    "print(\"mini: \", mini)"
   ]
  },
  {
   "cell_type": "code",
   "execution_count": 14,
   "metadata": {},
   "outputs": [
    {
     "ename": "TypeError",
     "evalue": "'tuple' object does not support item assignment",
     "output_type": "error",
     "traceback": [
      "\u001b[1;31m---------------------------------------------------------------------------\u001b[0m",
      "\u001b[1;31mTypeError\u001b[0m                                 Traceback (most recent call last)",
      "Cell \u001b[1;32mIn [14], line 3\u001b[0m\n\u001b[0;32m      1\u001b[0m \u001b[39m# But we can not change the value of the tuple\u001b[39;00m\n\u001b[0;32m      2\u001b[0m \u001b[39m# let's try to change the value of the tuple\u001b[39;00m\n\u001b[1;32m----> 3\u001b[0m tup1[\u001b[39m0\u001b[39m] \u001b[39m=\u001b[39m \u001b[39m10\u001b[39m\n\u001b[0;32m      4\u001b[0m \u001b[39mprint\u001b[39m(tup1)\n",
      "\u001b[1;31mTypeError\u001b[0m: 'tuple' object does not support item assignment"
     ]
    }
   ],
   "source": [
    "# But we can not change the value of the tuple\n",
    "# let's try to change the value of the tuple\n",
    "tup1[0] = 10\n",
    "print(tup1)"
   ]
  },
  {
   "cell_type": "code",
   "execution_count": 28,
   "metadata": {},
   "outputs": [
    {
     "name": "stdout",
     "output_type": "stream",
     "text": [
      "{1: 'one', 2: 'two', 3: 'three'}\n",
      "<class 'dict'>\n",
      "length:  3\n",
      "string:  {1: 'one', 2: 'two', 3: 'three'}\n",
      "type:  <class 'str'>\n",
      "dictionary[1]:  one\n",
      "new_dict:  {1: 'one', 2: 'two', 3: 3, 4: 4.5, 5: (5+6j)}\n"
     ]
    }
   ],
   "source": [
    "# Mapping Type : dict\n",
    "# dict type is a collection which is unordered, changeable and indexed. It does not allow duplicate members.\n",
    "# It is used to store data values in key:value pairs.\n",
    "\n",
    "dictionary = {1: \"one\", 2: \"two\", 3: \"three\"}\n",
    "print(dictionary)\n",
    "print(type(dictionary))\n",
    "\n",
    "# operation on dictionary:\n",
    "# Length -> It is used to find the length of a dictionary.\n",
    "length = len(dictionary)\n",
    "print(\"length: \", length)\n",
    "\n",
    "# String -> It is used to convert a dictionary into a string.\n",
    "string = str(dictionary)\n",
    "print(\"string: \", string)\n",
    "print(\"type: \", type(string))\n",
    "\n",
    "# we can see the value of the dictionary by using the key\n",
    "print(\"dictionary[1]: \",dictionary[1])\n",
    "\n",
    "# we store different data type in the dictionary\n",
    "new_dict = {1: \"one\", 2: \"two\", 3: 3, 4: 4.5, 5: 5+6j}\n",
    "print(\"new_dict: \", new_dict)\n",
    "\n"
   ]
  },
  {
   "cell_type": "code",
   "execution_count": 34,
   "metadata": {},
   "outputs": [
    {
     "name": "stdout",
     "output_type": "stream",
     "text": [
      "{1, 2, 3, 4, 5}\n",
      "<class 'set'>\n",
      "length: 5\n",
      "max: 5\n",
      "min: 1\n",
      "set_new: {1, 2, 3, 4, 5}\n",
      "set_diff: {True, 34, 'abc', 40, 'male'}\n"
     ]
    }
   ],
   "source": [
    "# Set Type : set, frozenset\n",
    "\n",
    "# SET type is a collection which is unordered and unindexed. It does not allow duplicate members.\n",
    "set_1 = {1,2,3,4,5}\n",
    "print(set_1)\n",
    "print(type(set_1))\n",
    "\n",
    "# Operation on set:\n",
    "#  Length -> It is used to find the length of a set.\n",
    "print(\"length:\", len(set_1))\n",
    "\n",
    "# Maximum -> It is used to find the maximum value in a set.\n",
    "print(\"max:\", max(set_1))\n",
    "\n",
    "# Minimum -> It is used to find the minimum value in a set.\n",
    "print(\"min:\", min(set_1))\n",
    "\n",
    "# Duplicate -> It is used to remove duplicate elements from a set.\n",
    "list_new = [1,2,3,4,5,1,2,3,4,5]\n",
    "set_new = set(list_new)\n",
    "print(\"set_new:\", set_new)\n",
    "\n",
    "# set with different data type\n",
    "set_diff = {\"abc\", 34, True, 40, \"male\"}\n",
    "print(\"set_diff:\", set_diff)\n"
   ]
  },
  {
   "cell_type": "code",
   "execution_count": 35,
   "metadata": {},
   "outputs": [
    {
     "ename": "TypeError",
     "evalue": "'set' object does not support item assignment",
     "output_type": "error",
     "traceback": [
      "\u001b[1;31m---------------------------------------------------------------------------\u001b[0m",
      "\u001b[1;31mTypeError\u001b[0m                                 Traceback (most recent call last)",
      "Cell \u001b[1;32mIn [35], line 2\u001b[0m\n\u001b[0;32m      1\u001b[0m \u001b[39m# Immutability\u001b[39;00m\n\u001b[1;32m----> 2\u001b[0m set_1[\u001b[39m0\u001b[39m] \u001b[39m=\u001b[39m \u001b[39m10\u001b[39m\n\u001b[0;32m      3\u001b[0m \u001b[39mprint\u001b[39m(set_1)\n",
      "\u001b[1;31mTypeError\u001b[0m: 'set' object does not support item assignment"
     ]
    }
   ],
   "source": [
    "# Immutability\n",
    "set_1[0] = 10\n",
    "print(set_1)\n"
   ]
  },
  {
   "cell_type": "code",
   "execution_count": 36,
   "metadata": {},
   "outputs": [
    {
     "name": "stdout",
     "output_type": "stream",
     "text": [
      "True\n",
      "<class 'bool'>\n"
     ]
    }
   ],
   "source": [
    "# Boolean Type : bool\n",
    "# bool type is a data type with two possible values: True or False.\n",
    "\n",
    "boolean = True\n",
    "print(boolean)\n",
    "print(type(boolean))"
   ]
  },
  {
   "cell_type": "code",
   "execution_count": 42,
   "metadata": {},
   "outputs": [
    {
     "name": "stdout",
     "output_type": "stream",
     "text": [
      "256\n",
      "<class 'int'>\n"
     ]
    }
   ],
   "source": [
    "# Binary Types: bytes, bytearray, memoryview\n",
    "\n",
    "# bytes type is immutable sequence of integers in the range 0 <= x < 256.\n",
    "# bytes type is used to store binary data, such as images, PDFs, word documents, etc.\n",
    "d_byte = 256\n",
    "print(d_byte)\n",
    "print(type(d_byte))"
   ]
  },
  {
   "cell_type": "code",
   "execution_count": 40,
   "metadata": {},
   "outputs": [
    {
     "data": {
      "text/plain": [
       "'Hello'"
      ]
     },
     "execution_count": 40,
     "metadata": {},
     "output_type": "execute_result"
    }
   ],
   "source": [
    "d_byte"
   ]
  },
  {
   "cell_type": "code",
   "execution_count": null,
   "metadata": {},
   "outputs": [],
   "source": []
  }
 ],
 "metadata": {
  "kernelspec": {
   "display_name": "Python 3",
   "language": "python",
   "name": "python3"
  },
  "language_info": {
   "codemirror_mode": {
    "name": "ipython",
    "version": 3
   },
   "file_extension": ".py",
   "mimetype": "text/x-python",
   "name": "python",
   "nbconvert_exporter": "python",
   "pygments_lexer": "ipython3",
   "version": "3.10.7"
  },
  "orig_nbformat": 4,
  "vscode": {
   "interpreter": {
    "hash": "369f2c481f4da34e4445cda3fffd2e751bd1c4d706f27375911949ba6bb62e1c"
   }
  }
 },
 "nbformat": 4,
 "nbformat_minor": 2
}
