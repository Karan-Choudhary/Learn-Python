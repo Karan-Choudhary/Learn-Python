{
 "cells": [
  {
   "attachments": {},
   "cell_type": "markdown",
   "metadata": {},
   "source": [
    "### Returning Functions\n",
    "* The function return statement is used to return a value from a function.\n",
    "* The return statement can be used to return any data type including lists, dictionaries, strings, integers, etc.\n",
    "\n",
    "SYNTAX:\n",
    "```python\n",
    "def function_name(parameters):\n",
    "    statement(s)\n",
    "    return value\n",
    "```\n",
    "\n",
    "OR\n",
    "\n",
    "```python\n",
    "def function_name(parameters) -> return_type:\n",
    "    statement(s)\n",
    "    return value\n",
    "```"
   ]
  },
  {
   "cell_type": "code",
   "execution_count": 10,
   "metadata": {},
   "outputs": [
    {
     "name": "stdout",
     "output_type": "stream",
     "text": [
      "5\n",
      "None\n"
     ]
    }
   ],
   "source": []
  },
  {
   "cell_type": "code",
   "execution_count": 12,
   "metadata": {},
   "outputs": [
    {
     "name": "stdout",
     "output_type": "stream",
     "text": [
      "6\n"
     ]
    }
   ],
   "source": [
    "# Example 1: Explicit return\n",
    "def add(a, b):\n",
    "    c = a + b\n",
    "    return c\n",
    "\n",
    "sum_ = add(3, 3)\n",
    "print(sum_)"
   ]
  },
  {
   "cell_type": "code",
   "execution_count": 13,
   "metadata": {},
   "outputs": [
    {
     "data": {
      "text/plain": [
       "4"
      ]
     },
     "execution_count": 13,
     "metadata": {},
     "output_type": "execute_result"
    }
   ],
   "source": [
    "add(1,3)"
   ]
  },
  {
   "cell_type": "code",
   "execution_count": 14,
   "metadata": {},
   "outputs": [
    {
     "name": "stdout",
     "output_type": "stream",
     "text": [
      "4\n"
     ]
    }
   ],
   "source": [
    "sum1 = add(1, 3)\n",
    "print(sum1)"
   ]
  },
  {
   "cell_type": "code",
   "execution_count": 11,
   "metadata": {},
   "outputs": [
    {
     "name": "stdout",
     "output_type": "stream",
     "text": [
      "[5, 7, 9]\n"
     ]
    }
   ],
   "source": [
    "# Example 2:\n",
    "def add_lists(list1, list2):\n",
    "    list3 = []\n",
    "    for i in range(len(list1)):\n",
    "        list3.append(list1[i] + list2[i])\n",
    "    return list3\n",
    "\n",
    "list1 = [1, 2, 3]\n",
    "list2 = [4, 5, 6]\n",
    "list3 = add_lists(list1, list2)\n",
    "print(list3)"
   ]
  },
  {
   "cell_type": "code",
   "execution_count": 15,
   "metadata": {},
   "outputs": [
    {
     "name": "stdout",
     "output_type": "stream",
     "text": [
      "[1, 2, 3, 4, 5, 6]\n"
     ]
    }
   ],
   "source": [
    "def concatenate_lists(list1, list2):\n",
    "    list3 = list1 + list2\n",
    "    return list3\n",
    "\n",
    "list1 = [1, 2, 3]\n",
    "list2= [4, 5, 6]\n",
    "list3 = concatenate_lists(list1, list2)\n",
    "print(list3)"
   ]
  },
  {
   "cell_type": "code",
   "execution_count": 20,
   "metadata": {},
   "outputs": [
    {
     "name": "stdout",
     "output_type": "stream",
     "text": [
      "2.0\n"
     ]
    }
   ],
   "source": [
    "# Example 3:\n",
    "\n",
    "def divide_a_by_b(a,b=1):\n",
    "    result = a/b\n",
    "    return result\n",
    "\n",
    "\n",
    "# take input from user\n",
    "a = int(input(\"Enter a: \"))\n",
    "b = int(input(\"Enter b: \"))\n",
    "\n",
    "if(b == 0):\n",
    "    result = divide_a_by_b(a)\n",
    "else:\n",
    "    result = divide_a_by_b(a, b)\n",
    "print(result)\n",
    "\n",
    "# res = divide_a_by_b(10, 0)\n",
    "# print(res)"
   ]
  },
  {
   "attachments": {},
   "cell_type": "markdown",
   "metadata": {},
   "source": [
    "#### Returning multiple values from a function\n",
    "\n",
    "```python\n",
    "def function_name(parameters):\n",
    "    statement(s)\n",
    "    return value1, value2, value3\n",
    "```"
   ]
  },
  {
   "cell_type": "code",
   "execution_count": 21,
   "metadata": {},
   "outputs": [
    {
     "name": "stdout",
     "output_type": "stream",
     "text": [
      "Mean:  5.5\n",
      "Median:  5.5\n",
      "Mode:  1\n"
     ]
    }
   ],
   "source": [
    "import statistics as st\n",
    "\n",
    "def describe_list(input_list):\n",
    "    mean = st.mean(input_list)\n",
    "    median = st.median(input_list)\n",
    "    mode = st.mode(input_list)\n",
    "    return mean, median, mode\n",
    "\n",
    "input_list = [1, 2, 3, 4, 5, 6, 7, 8, 9, 10]\n",
    "mean, median, mode = describe_list(input_list)\n",
    "print(\"Mean: \", mean)\n",
    "print(\"Median: \", median)\n",
    "print(\"Mode: \", mode)"
   ]
  },
  {
   "attachments": {},
   "cell_type": "markdown",
   "metadata": {},
   "source": [
    "### Short Circuiting the Loop\n"
   ]
  },
  {
   "cell_type": "code",
   "execution_count": 22,
   "metadata": {},
   "outputs": [
    {
     "name": "stdout",
     "output_type": "stream",
     "text": [
      "2\n"
     ]
    }
   ],
   "source": [
    "# Suppose we have a list which contain binary digits 0 and 1\n",
    "# list = [0,0,1,0,0,1,0,0,0,1]\n",
    "# now we need to find the first occurrence of 1 in the list other wise return -1\n",
    "\n",
    "def find_first_one(list):\n",
    "    for i in range(len(list)):\n",
    "        if(list[i] == 1):\n",
    "            return i # short circuiting\n",
    "    return -1\n",
    "\n",
    "binary_list = [0,0,1,0,0,1,0,0,0,1]\n",
    "index = find_first_one(binary_list)\n",
    "print(index)"
   ]
  },
  {
   "attachments": {},
   "cell_type": "markdown",
   "metadata": {},
   "source": [
    "#### Docstrings"
   ]
  },
  {
   "cell_type": "code",
   "execution_count": 23,
   "metadata": {},
   "outputs": [],
   "source": [
    "def find_first_one(list):\n",
    "    '''This function will find the first occurrence of 1 in the list other wise return -1'''\n",
    "    for i in range(len(list)):\n",
    "        if(list[i] == 1):\n",
    "            return i\n",
    "    return -1"
   ]
  },
  {
   "cell_type": "code",
   "execution_count": 24,
   "metadata": {},
   "outputs": [
    {
     "name": "stdout",
     "output_type": "stream",
     "text": [
      "This function will find the first occurrence of 1 in the list other wise return -1\n"
     ]
    }
   ],
   "source": [
    "print(find_first_one.__doc__)"
   ]
  },
  {
   "attachments": {},
   "cell_type": "markdown",
   "metadata": {},
   "source": [
    "#### Questions to try out\n",
    "1. Write a function that takes a list of numbers and returns the sum of all the numbers in the list.\n",
    "2. Write a function that takes a list of numbers and returns the largest number in the list.\n",
    "3. Write a function that takes a list of words and returns the length of the longest one.\n",
    "4. Write a function that takes a list of numbers and returns a new list with all the elements multiplied by 2.\n",
    "5. Write a function that takes a list of numbers and returns a new list with only the even elements."
   ]
  },
  {
   "cell_type": "code",
   "execution_count": null,
   "metadata": {},
   "outputs": [],
   "source": []
  }
 ],
 "metadata": {
  "kernelspec": {
   "display_name": "Python 3",
   "language": "python",
   "name": "python3"
  },
  "language_info": {
   "codemirror_mode": {
    "name": "ipython",
    "version": 3
   },
   "file_extension": ".py",
   "mimetype": "text/x-python",
   "name": "python",
   "nbconvert_exporter": "python",
   "pygments_lexer": "ipython3",
   "version": "3.10.7 (tags/v3.10.7:6cc6b13, Sep  5 2022, 14:08:36) [MSC v.1933 64 bit (AMD64)]"
  },
  "orig_nbformat": 4,
  "vscode": {
   "interpreter": {
    "hash": "369f2c481f4da34e4445cda3fffd2e751bd1c4d706f27375911949ba6bb62e1c"
   }
  }
 },
 "nbformat": 4,
 "nbformat_minor": 2
}
