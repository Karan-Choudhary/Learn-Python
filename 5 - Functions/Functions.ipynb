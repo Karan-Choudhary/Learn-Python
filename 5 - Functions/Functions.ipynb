{
 "cells": [
  {
   "attachments": {},
   "cell_type": "markdown",
   "metadata": {},
   "source": [
    "# Functions in Python\n",
    "* The idea of a function is to group a set of commonly used statements together and give them a name instead of writing the same code again and again.\n",
    "* A function is a block of organized, reusable code that is used to perform a single, related action.\n",
    "* Functions are a way to package code for reuse. They are one of the most important concepts in programming.\n",
    "\n",
    "SYNATX:\n",
    "```python\n",
    "def function_name(parameters):\n",
    "    \"\"\"docstring\"\"\"\n",
    "    statement(s)\n",
    "    return value\n",
    "```"
   ]
  },
  {
   "attachments": {},
   "cell_type": "markdown",
   "metadata": {},
   "source": [
    "## Key Points about Functions\n",
    "* The first line of the function is called the header. It starts with the keyword def which tells Python that you are defining a function. The header ends with a colon.\n",
    "\n",
    "* The header is followed by an indented block of code called the body. The body contains the statements that are executed when the function runs.\n",
    "\n",
    "* The first statement of the function body can optionally be a string literal; this string literal is the function’s documentation string, or docstring. It is used to document the function for other programmers.\n",
    "\n",
    "* After the doc string, the function body can contain any number of Python statements.\n",
    "\n",
    "* After the statements, the function ends with a return statement. The return statement is used to exit a function and go back to the place from where it was called.\n",
    "\n",
    "* The return statement can optionally return a value to the caller. The value that the function returns is called the function’s return value."
   ]
  },
  {
   "attachments": {},
   "cell_type": "markdown",
   "metadata": {},
   "source": [
    "#### Simple Function with no parameters\n"
   ]
  },
  {
   "cell_type": "code",
   "execution_count": 2,
   "metadata": {},
   "outputs": [
    {
     "name": "stdout",
     "output_type": "stream",
     "text": [
      "My name is Karan\n",
      "I am a Data Scientist\n"
     ]
    }
   ],
   "source": [
    "# Let's create a simple function that prints a string\n",
    "\n",
    "def print_name(): # -----------> Function definition\n",
    "    ''' This function prints the name''' # -----------> Docstring\n",
    "    print(\"My name is Karan\") # -----------> Function body\n",
    "    print(\"I am a Data Scientist\")\n",
    "    \n",
    "    \n",
    "# We can call the function by using the function name and passing the required arguments\n",
    "print_name() # -----------> Function call"
   ]
  },
  {
   "attachments": {},
   "cell_type": "markdown",
   "metadata": {},
   "source": [
    "#### Simple Function with parameters/arguments\n",
    "\n",
    "Arguments are the values passed to the function when it is called. Parameters are the variables that receive the values of the arguments.\n",
    "\n",
    "You can add as many parameters as you want, just separate them with a comma.\n",
    "\n",
    "\n",
    "SYNTAX:\n",
    "```python\n",
    "def function_name(parameter1, parameter2, parameter3):\n",
    "    \"\"\"docstring\"\"\"\n",
    "    statement(s)\n",
    "    return value\n",
    "```\n",
    "\n",
    "OR\n",
    "\n",
    "```python\n",
    "def function_name(parameter1, parameter2, parameter3) -> return_type:\n",
    "    \"\"\"docstring\"\"\"\n",
    "    statement(s)\n",
    "    return value\n",
    "```"
   ]
  },
  {
   "cell_type": "code",
   "execution_count": 3,
   "metadata": {},
   "outputs": [
    {
     "name": "stdout",
     "output_type": "stream",
     "text": [
      "My name is Karan\n"
     ]
    }
   ],
   "source": [
    "# Let's create a function that takes a name as an argument and prints it\n",
    "\n",
    "#  name -> Karan\n",
    "def print_name(name): # -----------> Function definition\n",
    "    print(\"My name is\", name) # -----------> Function body\n",
    "\n",
    "# function call\n",
    "print_name(\"Karan\") # -----------> Function call"
   ]
  },
  {
   "cell_type": "code",
   "execution_count": 5,
   "metadata": {},
   "outputs": [
    {
     "name": "stdout",
     "output_type": "stream",
     "text": [
      "My name is 25 and my age is Karan\n"
     ]
    }
   ],
   "source": [
    "# Function with multiple arguments\n",
    "\n",
    "# Let's create a function that takes multiple arguments and prints them\n",
    "\n",
    "def print_name(name, age): # -----------> Function definition\n",
    "    print(\"My name is\", name, \"and my age is\", age) # -----------> Function body\n",
    "    \n",
    "# print_name(\"Karan\", 25) # -----------> Function call\n",
    "print_name(25, \"Karan\") # -----------> Function call"
   ]
  },
  {
   "cell_type": "code",
   "execution_count": 8,
   "metadata": {},
   "outputs": [
    {
     "name": "stdout",
     "output_type": "stream",
     "text": [
      "My name is Karan and my age is 24\n"
     ]
    }
   ],
   "source": [
    "# Let's try it calling with different number of arguments\n",
    "# print_name(\"Karan\", 25)\n",
    "print_name(\"Karan\", 24)"
   ]
  },
  {
   "cell_type": "code",
   "execution_count": 11,
   "metadata": {},
   "outputs": [
    {
     "name": "stdout",
     "output_type": "stream",
     "text": [
      "My name is Karan and my age is 25\n",
      "My name is Karan and my age is 25\n"
     ]
    }
   ],
   "source": [
    "# Type 1: Keyword arguments\n",
    "# Send arguments with keyword \n",
    "print_name(name = \"Karan\", age = 25) # -----------> Function call\n",
    "print_name(age=25, name=\"Karan\")"
   ]
  },
  {
   "attachments": {},
   "cell_type": "markdown",
   "metadata": {},
   "source": [
    "* Let's suppose you don't know how many arguments that will be passed into your function, add a * before the parameter name in the function definition.\n",
    "* This way the function will receive a tuple of arguments, and can access the items accordingly:"
   ]
  },
  {
   "cell_type": "code",
   "execution_count": 12,
   "metadata": {},
   "outputs": [
    {
     "name": "stdout",
     "output_type": "stream",
     "text": [
      "First argument is:  India\n",
      "Second argument is:  Karan\n",
      "Third argument is:  25\n"
     ]
    }
   ],
   "source": [
    "# Type 2: Variable length arguments\n",
    "# Let's create a function that takes multiple arguments and prints them\n",
    "\n",
    "def print_name(*arguments):\n",
    "    print(\"First argument is: \", arguments[0])\n",
    "    print(\"Second argument is: \", arguments[1])\n",
    "    print(\"Third argument is: \", arguments[2])\n",
    "\n",
    "\n",
    "# Tuple = (\"India\", \"Karan\", 25)\n",
    "print_name(\"India\", \"Karan\", 25)"
   ]
  },
  {
   "attachments": {},
   "cell_type": "markdown",
   "metadata": {},
   "source": [
    "Let's say you don't want multiple arguments to be the tuple, add a double ** before the parameter name in the function definition it will receive a dictionary of arguments, and can access the items accordingly:"
   ]
  },
  {
   "cell_type": "code",
   "execution_count": 13,
   "metadata": {},
   "outputs": [
    {
     "name": "stdout",
     "output_type": "stream",
     "text": [
      "First argument is:  Karan\n",
      "Second argument is:  25\n"
     ]
    }
   ],
   "source": [
    "def print_name(**arguments):\n",
    "    print(\"First argument is: \", arguments[\"name\"])\n",
    "    print(\"Second argument is: \", arguments[\"age\"])\n",
    "\n",
    "# name = \"Karan\", age = 25 -> dictionary\n",
    "# {\"name\": \"Karan\", \"age\": 25}\n",
    "\n",
    "print_name(name=\"Karan\", age=25)"
   ]
  },
  {
   "cell_type": "code",
   "execution_count": 21,
   "metadata": {},
   "outputs": [
    {
     "name": "stdout",
     "output_type": "stream",
     "text": [
      "Sum of 20 and 0 is 20\n"
     ]
    }
   ],
   "source": [
    "# Type 3: Default arguments\n",
    "\n",
    "# Let's create a function that takes 2 integers and print the sum of them\n",
    "\n",
    "def add(a=0, b=0):\n",
    "    c = a + b\n",
    "    print(\"Sum of\", a, \"and\", b, \"is\", c)\n",
    "    \n",
    "add(20)"
   ]
  },
  {
   "attachments": {},
   "cell_type": "markdown",
   "metadata": {},
   "source": [
    "Some questions to try yourself:\n",
    "1. Write a function that takes a list of numbers and prints the list.\n",
    "2. Write a function that takes a list of numbers and prints the numbers in reverse order.\n",
    "3. Write a function that takes a list of numbers and print the sum of the numbers.\n",
    "4. Write a function that takes a string (\"This is the string\") and check if it is starts with a 'T' or not. If it starts with 'T' then print \"Yes\", else print \"No\".\n",
    "5. Write a function that takes a dictionary and print the keys and values of the dictionary."
   ]
  },
  {
   "cell_type": "markdown",
   "metadata": {},
   "source": []
  }
 ],
 "metadata": {
  "kernelspec": {
   "display_name": "Python 3",
   "language": "python",
   "name": "python3"
  },
  "language_info": {
   "codemirror_mode": {
    "name": "ipython",
    "version": 3
   },
   "file_extension": ".py",
   "mimetype": "text/x-python",
   "name": "python",
   "nbconvert_exporter": "python",
   "pygments_lexer": "ipython3",
   "version": "3.10.7"
  },
  "orig_nbformat": 4,
  "vscode": {
   "interpreter": {
    "hash": "369f2c481f4da34e4445cda3fffd2e751bd1c4d706f27375911949ba6bb62e1c"
   }
  }
 },
 "nbformat": 4,
 "nbformat_minor": 2
}
