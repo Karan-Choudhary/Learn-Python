{
 "cells": [
  {
   "attachments": {},
   "cell_type": "markdown",
   "metadata": {},
   "source": [
    "## Lambda Functions\n",
    "Also known as anonymous functions, lambda functions are one-line functions that are not bound to a name. They are useful when you need a function for a short period of time. Lambda functions are used along with built-in functions like filter(), map() etc.\n",
    "\n",
    "SYNTAX\n",
    "\n",
    "    lambda arguments: expression"
   ]
  },
  {
   "attachments": {},
   "cell_type": "markdown",
   "metadata": {},
   "source": [
    "#### Why Use Lambda Functions?\n",
    "The power of lambda is better shown when you use them as an anonymous function inside another function."
   ]
  },
  {
   "attachments": {},
   "cell_type": "markdown",
   "metadata": {},
   "source": [
    "This function can have any number of arguments but only one expression, which is evaluated and returned."
   ]
  },
  {
   "cell_type": "code",
   "execution_count": 40,
   "metadata": {},
   "outputs": [
    {
     "name": "stdout",
     "output_type": "stream",
     "text": [
      "600\n"
     ]
    }
   ],
   "source": [
    "def add(a):\n",
    "    c = a + 100\n",
    "    return c\n",
    "\n",
    "\n",
    "print(add(500))"
   ]
  },
  {
   "cell_type": "code",
   "execution_count": 41,
   "metadata": {},
   "outputs": [
    {
     "name": "stdout",
     "output_type": "stream",
     "text": [
      "600\n"
     ]
    }
   ],
   "source": [
    "# Let's consider a simple example in which \n",
    "# we want to add 100 to a number\n",
    "\n",
    "# x = lambda a : a + 100\n",
    "x = lambda a : a + 100\n",
    "\n",
    "\n",
    "print(x(500))"
   ]
  },
  {
   "cell_type": "code",
   "execution_count": 44,
   "metadata": {},
   "outputs": [
    {
     "name": "stdout",
     "output_type": "stream",
     "text": [
      "200\n",
      "2000\n",
      "10000\n"
     ]
    }
   ],
   "source": [
    "# Let's consider another example in which we want to multiple two numbers\n",
    "\n",
    "x = lambda a, b : a * b\n",
    "\n",
    "print(x(10,20))\n",
    "print(x(2,1000))\n",
    "print(x(100,100))"
   ]
  },
  {
   "cell_type": "code",
   "execution_count": 48,
   "metadata": {},
   "outputs": [
    {
     "name": "stdout",
     "output_type": "stream",
     "text": [
      "22\n",
      "33\n",
      "300\n",
      "200\n"
     ]
    }
   ],
   "source": [
    "# let's consider you have a function that takes 1 argument, and that argument will be multiplied with an unknown number\n",
    "\n",
    "def func(n):\n",
    "    return lambda a : a * n\n",
    "\n",
    "\n",
    "double = func(2)\n",
    "triple = func(3)\n",
    "\n",
    "print(double(11))\n",
    "print(triple(11))\n",
    "print(triple(100))\n",
    "print(double(100))\n",
    "# print(call_func(5))"
   ]
  },
  {
   "cell_type": "code",
   "execution_count": 49,
   "metadata": {},
   "outputs": [
    {
     "name": "stdout",
     "output_type": "stream",
     "text": [
      "KARAN CHOUDHARY\n"
     ]
    }
   ],
   "source": [
    "# let's take one more example in which we want to convert a string to upper case\n",
    "\n",
    "upper_case = lambda s : s.upper()\n",
    "\n",
    "print(upper_case(\"karan choudhary\"))"
   ]
  },
  {
   "attachments": {},
   "cell_type": "markdown",
   "metadata": {},
   "source": [
    "Lambda functions with if condition"
   ]
  },
  {
   "cell_type": "code",
   "execution_count": 11,
   "metadata": {},
   "outputs": [
    {
     "name": "stdout",
     "output_type": "stream",
     "text": [
      "15\n",
      "12\n"
     ]
    }
   ],
   "source": [
    "# let's consider a example in which we want to double the even numbers and triple the odd numbers\n",
    "\n",
    "number = lambda a : a * 2 if a % 2 == 0 else a * 3\n",
    "\n",
    "print(number(5))\n",
    "print(number(6))"
   ]
  },
  {
   "cell_type": "code",
   "execution_count": 50,
   "metadata": {},
   "outputs": [],
   "source": [
    "# let's consider a list \n",
    "# li = [1,2,3,4,5,6,7,8,9,10]\n",
    "# and we want to double the even numbers and triple the odd numbers\n",
    "li = [1,2,3,4,5,6,7,8,9,10]\n",
    "# new_list = [lambda args = a : args * 2 if args % 2 == 0 else args * 3 for a in li]\n",
    "new_list = [lambda argum = a : argum * 2 if argum%2==0 else argum*3 for a in li]\n",
    "\n"
   ]
  },
  {
   "cell_type": "code",
   "execution_count": 55,
   "metadata": {},
   "outputs": [
    {
     "data": {
      "text/plain": [
       "16"
      ]
     },
     "execution_count": 55,
     "metadata": {},
     "output_type": "execute_result"
    }
   ],
   "source": [
    "new_list[7]()"
   ]
  },
  {
   "cell_type": "code",
   "execution_count": 53,
   "metadata": {},
   "outputs": [
    {
     "data": {
      "text/plain": [
       "[<function __main__.<listcomp>.<lambda>(argum=1)>,\n",
       " <function __main__.<listcomp>.<lambda>(argum=2)>,\n",
       " <function __main__.<listcomp>.<lambda>(argum=3)>,\n",
       " <function __main__.<listcomp>.<lambda>(argum=4)>,\n",
       " <function __main__.<listcomp>.<lambda>(argum=5)>,\n",
       " <function __main__.<listcomp>.<lambda>(argum=6)>,\n",
       " <function __main__.<listcomp>.<lambda>(argum=7)>,\n",
       " <function __main__.<listcomp>.<lambda>(argum=8)>,\n",
       " <function __main__.<listcomp>.<lambda>(argum=9)>,\n",
       " <function __main__.<listcomp>.<lambda>(argum=10)>]"
      ]
     },
     "execution_count": 53,
     "metadata": {},
     "output_type": "execute_result"
    }
   ],
   "source": [
    "new_list"
   ]
  },
  {
   "cell_type": "code",
   "execution_count": null,
   "metadata": {},
   "outputs": [],
   "source": []
  }
 ],
 "metadata": {
  "kernelspec": {
   "display_name": "Python 3",
   "language": "python",
   "name": "python3"
  },
  "language_info": {
   "codemirror_mode": {
    "name": "ipython",
    "version": 3
   },
   "file_extension": ".py",
   "mimetype": "text/x-python",
   "name": "python",
   "nbconvert_exporter": "python",
   "pygments_lexer": "ipython3",
   "version": "3.10.7"
  },
  "orig_nbformat": 4,
  "vscode": {
   "interpreter": {
    "hash": "369f2c481f4da34e4445cda3fffd2e751bd1c4d706f27375911949ba6bb62e1c"
   }
  }
 },
 "nbformat": 4,
 "nbformat_minor": 2
}
