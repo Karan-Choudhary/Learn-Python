{
 "cells": [
  {
   "attachments": {},
   "cell_type": "markdown",
   "metadata": {},
   "source": [
    "# List Comprehension\n",
    "\n",
    "* List comprehension is a very powerful tool, which creates a new list based on another list, in a single, readable line. \n",
    "* List comprehension is generally more compact and faster than normal functions and loops for creating list.\n",
    "* List comprehension consists of an expression followed by for statement inside square brackets.\n",
    "* List comprehension can optionally contain more for or if statements. An optional if statement can filter out items for the new list. \n",
    "\n",
    "\n",
    "SYNTAX:\n",
    "\n",
    "    newList = [ expression(element) for element in oldList if condition ] "
   ]
  },
  {
   "cell_type": "code",
   "execution_count": 6,
   "metadata": {},
   "outputs": [
    {
     "name": "stdout",
     "output_type": "stream",
     "text": [
      "[2, 4, 6, 8, 10]\n"
     ]
    }
   ],
   "source": [
    "lis = [1,2,3,4,5,6,7,8,9,10]\n",
    "\n",
    "new_list = []\n",
    "\n",
    "for item in lis:\n",
    "    if item % 2 == 0:\n",
    "        new_list.append(item)\n",
    "    \n",
    "print(new_list)"
   ]
  },
  {
   "cell_type": "code",
   "execution_count": 7,
   "metadata": {},
   "outputs": [
    {
     "name": "stdout",
     "output_type": "stream",
     "text": [
      "[2, 4, 6, 8, 10]\n"
     ]
    }
   ],
   "source": [
    "new_list = [item for item in lis if item%2==0]\n",
    "print(new_list)"
   ]
  },
  {
   "cell_type": "code",
   "execution_count": 8,
   "metadata": {},
   "outputs": [
    {
     "name": "stdout",
     "output_type": "stream",
     "text": [
      "[1, 2, 3, 4, 5, 6, 7, 8, 9, 10]\n"
     ]
    }
   ],
   "source": [
    "# list to store the squares of the numbers from 1 to 10\n",
    "numbers = [x for x in range(1,11)]\n",
    "print(numbers)"
   ]
  },
  {
   "cell_type": "code",
   "execution_count": 9,
   "metadata": {},
   "outputs": [
    {
     "name": "stdout",
     "output_type": "stream",
     "text": [
      "['John', 'Bob', 'Mosh', 'Sarah', 'Mary']\n"
     ]
    }
   ],
   "source": [
    "# Let's create a simple list comprehension for displaying\n",
    "# data from a list\n",
    "\n",
    "names = ['John', 'Bob', 'Mosh', 'Sarah', 'Mary']\n",
    "\n",
    "new_list = [name for name in names]\n",
    "\n",
    "print(new_list)"
   ]
  },
  {
   "cell_type": "code",
   "execution_count": 10,
   "metadata": {},
   "outputs": [
    {
     "name": "stdout",
     "output_type": "stream",
     "text": [
      "[{0: 'John'}, {1: 'Bob'}, {2: 'Mosh'}, {3: 'Sarah'}, {4: 'Mary'}]\n"
     ]
    }
   ],
   "source": [
    "# with their index\n",
    "# {0: 'John', 1: 'Bob', 2: 'Mosh', 3: 'Sarah', 4: 'Mary'}\n",
    "\n",
    "# new_list = [{index: names[index]} for index in range(len(names))]\n",
    "\n",
    "# new_list = [{index : names[index]} for index in range(len(names))]\n",
    "\n",
    "new_list = [{index: names[index]} for index in range(len(names))]\n",
    "\n",
    "print(new_list)"
   ]
  },
  {
   "attachments": {},
   "cell_type": "markdown",
   "metadata": {},
   "source": [
    "#### List Comprehension with If statements"
   ]
  },
  {
   "cell_type": "code",
   "execution_count": 11,
   "metadata": {},
   "outputs": [
    {
     "name": "stdout",
     "output_type": "stream",
     "text": [
      "[2, 4, 6, 8, 10]\n"
     ]
    }
   ],
   "source": [
    "# list comprehension with condition\n",
    "\n",
    "numbers = [1, 2, 3, 4, 5, 6, 7, 8, 9, 10]\n",
    "\n",
    "# lets create a list with only even numbers\n",
    "\n",
    "even_numbers = [number for number in numbers if number % 2 == 0]\n",
    "print(even_numbers)"
   ]
  },
  {
   "cell_type": "code",
   "execution_count": 13,
   "metadata": {},
   "outputs": [
    {
     "name": "stdout",
     "output_type": "stream",
     "text": [
      "[3, 4, 9, 8, 15, 12, 21, 16, 27, 20]\n"
     ]
    }
   ],
   "source": [
    "# list comprehension with condition and else\n",
    "\n",
    "numbers = [1, 2, 3, 4, 5, 6, 7, 8, 9, 10]\n",
    "\n",
    "# lets create a list in which even numbers are doubled and odd numbers are tripled\n",
    "\n",
    "# Modified_numbers = [number *2 if number % 2 == 0 else number * 3 for number in numbers]\n",
    "\n",
    "Modified_numbers = [number*2 if number%2==0 else number*3 for number in numbers]\n",
    "\n",
    "print(Modified_numbers)"
   ]
  },
  {
   "cell_type": "code",
   "execution_count": 12,
   "metadata": {},
   "outputs": [
    {
     "name": "stdout",
     "output_type": "stream",
     "text": [
      "[6, 12]\n"
     ]
    }
   ],
   "source": [
    "# nested if conditions in list comprehension\n",
    "\n",
    "numbers =  [1, 2, 3, 4, 5, 6, 7, 8, 9, 10, 11, 12]\n",
    "\n",
    "# let's create a list with only numbers that are divisible by 2 and 3\n",
    "\n",
    "divisible = [number for number in numbers if number % 2 == 0 if number % 3 == 0]\n",
    "print(divisible)"
   ]
  },
  {
   "cell_type": "code",
   "execution_count": 14,
   "metadata": {},
   "outputs": [
    {
     "name": "stdout",
     "output_type": "stream",
     "text": [
      "['JOHN', 'BOB', 'MOSH', 'SARAH', 'MARY']\n"
     ]
    }
   ],
   "source": [
    "# lets take one more example of list comprehension \n",
    "# in which we will convert lower case letters to upper case letters\n",
    "\n",
    "names = ['John', 'Bob', 'Mosh', 'Sarah', 'Mary']\n",
    "\n",
    "# lets convert all the names to upper case\n",
    "\n",
    "names_upper = [name.upper() for name in names]\n",
    "print(names_upper)"
   ]
  },
  {
   "cell_type": "code",
   "execution_count": 16,
   "metadata": {},
   "outputs": [
    {
     "name": "stdout",
     "output_type": "stream",
     "text": [
      "['Mosh', 'Sarah', 'mary', 'Mary']\n"
     ]
    }
   ],
   "source": [
    "# Let's consider we have a list as:\n",
    "names = ['John', 'Bob', 'Mosh', 'Sarah', 'mary', 'Mary']\n",
    "\n",
    "# John -> john\n",
    "\n",
    "# and we want to create a new list with only those names that start with 'm' or end with 'h'\n",
    "\n",
    "# new_names = [name for name in names if name.lower().startswith('m') or name.endswith('h')]\n",
    "\n",
    "new_names = [name for name in names if name.lower().startswith('m') or name.endswith('h')]\n",
    "\n",
    "print(new_names)"
   ]
  },
  {
   "attachments": {},
   "cell_type": "markdown",
   "metadata": {},
   "source": [
    "#### Nested List Comprehension"
   ]
  },
  {
   "cell_type": "code",
   "execution_count": 17,
   "metadata": {},
   "outputs": [
    {
     "name": "stdout",
     "output_type": "stream",
     "text": [
      "[1, 2, 3, 4, 5, 6, 7, 8, 9]\n"
     ]
    }
   ],
   "source": [
    "# Lets consider we have [[1, 2, 3], [4, 5, 6], [7, 8, 9] and we want to convert it into [1, 2, 3, 4, 5, 6, 7, 8, 9]\n",
    "val  = [[1, 2, 3], [4, 5, 6], [7, 8, 9]]\n",
    "\n",
    "# new_val = [y for x in val for y in x]\n",
    "\n",
    "new_val = [inner for outer in val for inner in outer]\n",
    "\n",
    "print(new_val)"
   ]
  },
  {
   "cell_type": "code",
   "execution_count": 22,
   "metadata": {},
   "outputs": [
    {
     "name": "stdout",
     "output_type": "stream",
     "text": [
      "[[1, 2, 3], [4, 5, 6], [7, 8, 9]]\n"
     ]
    }
   ],
   "source": [
    "# Let's try nested list comprehension\n",
    "\n",
    "# we will try to make a list which contain 3 lists with 3 elements each\n",
    "# [[1, 2, 3], [4, 5, 6], [7, 8, 9]]\n",
    "\n",
    "# range function takes 3 arguments\n",
    "# 1st argument is the starting point\n",
    "# 2nd argument is the ending point\n",
    "# 3rd argument is the step size\n",
    "\n",
    "# matrix = [[i+j for i in range(1, 4)] for j in range(0, 7, 3)]\n",
    "\n",
    "\n",
    "matrix = [[inner+outer for inner in range(1,4)] for outer in range(0,7,3)]\n",
    "print(matrix)"
   ]
  },
  {
   "cell_type": "code",
   "execution_count": null,
   "metadata": {},
   "outputs": [],
   "source": []
  }
 ],
 "metadata": {
  "kernelspec": {
   "display_name": "Python 3",
   "language": "python",
   "name": "python3"
  },
  "language_info": {
   "codemirror_mode": {
    "name": "ipython",
    "version": 3
   },
   "file_extension": ".py",
   "mimetype": "text/x-python",
   "name": "python",
   "nbconvert_exporter": "python",
   "pygments_lexer": "ipython3",
   "version": "3.10.7"
  },
  "orig_nbformat": 4,
  "vscode": {
   "interpreter": {
    "hash": "369f2c481f4da34e4445cda3fffd2e751bd1c4d706f27375911949ba6bb62e1c"
   }
  }
 },
 "nbformat": 4,
 "nbformat_minor": 2
}
