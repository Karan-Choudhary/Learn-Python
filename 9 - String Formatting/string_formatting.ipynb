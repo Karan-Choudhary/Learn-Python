{
 "cells": [
  {
   "attachments": {},
   "cell_type": "markdown",
   "metadata": {},
   "source": [
    "## String Formatting in Python\n",
    "String formatting is a way to insert data into strings at runtime . It is a very useful technique to format strings in Python. There are several ways to format strings in Python.\n",
    "\n"
   ]
  },
  {
   "attachments": {},
   "cell_type": "markdown",
   "metadata": {},
   "source": [
    "### Ways to format strings in Python"
   ]
  },
  {
   "attachments": {},
   "cell_type": "markdown",
   "metadata": {},
   "source": [
    "#### 1. Using the % operator\n",
    "* Old way of formatting strings in Python\n",
    "* % operator is known as the string formatting operator\n",
    "    * %s -> string\n",
    "    * %d -> integer\n",
    "    * %f -> float\n",
    "    * %a.bf -> float with a fixed amount of digits. a is the total minimum number of digits and b is the number of digits after the decimal point\n",
    "    * %E -> exponential notation (lowercase/uppercase)"
   ]
  },
  {
   "cell_type": "code",
   "execution_count": 12,
   "metadata": {},
   "outputs": [
    {
     "name": "stdout",
     "output_type": "stream",
     "text": [
      "Hello, my name is Karan\n",
      "Hello, my name is Karan\n"
     ]
    }
   ],
   "source": [
    "# Example 1:\n",
    "\n",
    "name = \"Karan\"\n",
    "\n",
    "print(\"Hello, my name is %s\" %name)\n",
    "print(\"Hello, my name is %s\" %'Karan')\n"
   ]
  },
  {
   "cell_type": "code",
   "execution_count": 13,
   "metadata": {},
   "outputs": [
    {
     "name": "stdout",
     "output_type": "stream",
     "text": [
      "Hello, my name is Karan and I am 24 years old\n",
      "Hello, my name is Karan and I am 24 years old\n"
     ]
    }
   ],
   "source": [
    "name, age = \"Karan\", 24\n",
    "\n",
    "print(\"Hello, my name is %s and I am %d years old\" %(name, age))\n",
    "print(\"Hello, my name is %s and I am %d years old\" %('Karan', 24))"
   ]
  },
  {
   "cell_type": "code",
   "execution_count": 14,
   "metadata": {},
   "outputs": [
    {
     "name": "stdout",
     "output_type": "stream",
     "text": [
      "Karan%20Choudhary!\n"
     ]
    }
   ],
   "source": [
    "print(\"Karan%%20Choudhary%s\" %\"!\")"
   ]
  },
  {
   "cell_type": "code",
   "execution_count": 18,
   "metadata": {},
   "outputs": [
    {
     "name": "stdout",
     "output_type": "stream",
     "text": [
      "hello, float number:    13.144\n"
     ]
    }
   ],
   "source": [
    "print(\"hello, float number:%10.3f\" % (13.144))"
   ]
  },
  {
   "attachments": {},
   "cell_type": "markdown",
   "metadata": {},
   "source": [
    "#### 2. Using the format() method\n",
    "* Complex way of formatting strings in Python\n",
    "* {} are used as placeholders\n",
    "* format() method takes the values to be formatted as arguments\n",
    "    * d -> integer\n",
    "    * f -> float\n",
    "    * b -> binary\n",
    "    * o -> octal\n",
    "    * x -> hexadecimal\n",
    "    * s -> string\n",
    "    * e -> exponential notation "
   ]
  },
  {
   "cell_type": "code",
   "execution_count": 19,
   "metadata": {},
   "outputs": [
    {
     "name": "stdout",
     "output_type": "stream",
     "text": [
      "Hello, my name is Karan\n",
      "Hello, my name is Karan\n"
     ]
    }
   ],
   "source": [
    "name = \"Karan\"\n",
    "print(\"Hello, my name is {}\".format('Karan'))\n",
    "print(\"Hello, my name is {}\".format(name))"
   ]
  },
  {
   "cell_type": "code",
   "execution_count": 23,
   "metadata": {},
   "outputs": [
    {
     "name": "stdout",
     "output_type": "stream",
     "text": [
      "Hello, my name is Karan and I am 24 years old\n",
      "Hello, my name is Karan and I am 24 years old\n",
      "Python Python is awesome\n"
     ]
    }
   ],
   "source": [
    "name, age = \"Karan\", 24\n",
    "print(\"Hello, my name is {} and I am {} years old\".format(name, age))\n",
    "# print(\"Hello, my name is {} and I am {} years old\".format('Karan', 24))\n",
    "# print(\"Hello, my name is {1} and I am {0} years old\".format(age, name))\n",
    "# print(\"Hello, my name is {1} and I am {0} years old\".format(age, name))\n",
    "print(\"Hello, my name is {a} and I am {b} years old\".format(a=name, b=age))\n",
    "print(\"{p} {p} {a}\".format(p=\"Python\", a=\"is awesome\"))"
   ]
  },
  {
   "cell_type": "code",
   "execution_count": 26,
   "metadata": {},
   "outputs": [
    {
     "name": "stdout",
     "output_type": "stream",
     "text": [
      "Precision example: 12345.99\n",
      "Precision example: 234567876543.23\n"
     ]
    }
   ],
   "source": [
    "print(\"Precision example: {0:4.2f}\".format(12345.9876543234567, 234567876543.23456787654))\n",
    "print(\"Precision example: {1:4.2f}\".format(12345.9876543234567, 234567876543.23456787654))"
   ]
  },
  {
   "cell_type": "code",
   "execution_count": 27,
   "metadata": {},
   "outputs": [
    {
     "name": "stdout",
     "output_type": "stream",
     "text": [
      "Hello, my name is Karan and I am 24 years old\n",
      "Hello, my name is Karan and I am 24 years old\n"
     ]
    }
   ],
   "source": [
    "my_details = {'name': 'Karan', 'age': 24}\n",
    "print(\"Hello, my name is {name} and I am {age} years old\". format(name = my_details['name'], age = my_details['age']))\n",
    "print(\"Hello, my name is {name} and I am {age} years old\".format(**my_details))"
   ]
  },
  {
   "attachments": {},
   "cell_type": "markdown",
   "metadata": {},
   "source": [
    "#### 3. Using f-strings\n",
    "* Also called formatted string literals\n",
    "* Introduced in Python 3.6\n",
    "* have a f before the string\n",
    "* {} are used as placeholders\n",
    "* expressions are evaluated at run time and then formatted \n",
    "* The f in f-strings may as well stand for “fast.”"
   ]
  },
  {
   "cell_type": "code",
   "execution_count": 28,
   "metadata": {},
   "outputs": [
    {
     "name": "stdout",
     "output_type": "stream",
     "text": [
      "Hello, my name is Karan\n",
      "Hello, my name is Karan and I am 24 years old\n"
     ]
    }
   ],
   "source": [
    "name = \"Karan\"\n",
    "print(f\"Hello, my name is {name}\")\n",
    "age = 24\n",
    "print(f\"Hello, my name is {name} and I am {age} years old\")"
   ]
  },
  {
   "cell_type": "code",
   "execution_count": 30,
   "metadata": {},
   "outputs": [
    {
     "name": "stdout",
     "output_type": "stream",
     "text": [
      "Hello, my name is karan\n"
     ]
    }
   ],
   "source": [
    "def to_lowercase(input):\n",
    "    return input.lower()\n",
    "\n",
    "name = \"Karan\"\n",
    "# print(f\"Hello, my name is {to_lowercase(name)}\")\n",
    "print(f\"Hello, my name is {to_lowercase(name)}\")"
   ]
  },
  {
   "cell_type": "code",
   "execution_count": 31,
   "metadata": {},
   "outputs": [
    {
     "name": "stdout",
     "output_type": "stream",
     "text": [
      "Hello, my name is Karan. I am 24 years old. \n"
     ]
    }
   ],
   "source": [
    "# multiline f-string\n",
    "\n",
    "message = (\n",
    "    f\"Hello, my name is {name}. \"\n",
    "    f\"I am {age} years old. \"\n",
    ")\n",
    "print(message)"
   ]
  },
  {
   "cell_type": "code",
   "execution_count": 32,
   "metadata": {},
   "outputs": [
    {
     "name": "stdout",
     "output_type": "stream",
     "text": [
      "Hello, my name is Karan. I am 24 years old. \n"
     ]
    }
   ],
   "source": [
    "message = (\n",
    "    f\"Hello, my name is {name}. \" \\\n",
    "    f\"I am {age} years old. \"\n",
    ")\n",
    "print(message)"
   ]
  },
  {
   "cell_type": "code",
   "execution_count": 33,
   "metadata": {},
   "outputs": [
    {
     "name": "stdout",
     "output_type": "stream",
     "text": [
      "Hello, my name is Karan andI am 24 years old\n"
     ]
    }
   ],
   "source": [
    "my_details = {'name': 'Karan', 'age': 24}\n",
    "print(f\"Hello, my name is {my_details['name']} and\" \\\n",
    "            f\"I am {my_details['age']} years old\")\n"
   ]
  },
  {
   "attachments": {},
   "cell_type": "markdown",
   "metadata": {},
   "source": [
    "#### 4. String Template\n",
    "* Template class allows us to create a template with placeholders\n",
    "* placeholders are identified by $ followed by a name\n",
    "* substitute() method replaces the placeholders with actual values"
   ]
  },
  {
   "cell_type": "code",
   "execution_count": 38,
   "metadata": {},
   "outputs": [
    {
     "data": {
      "text/plain": [
       "'Hello, my name is Karan and I am 24 years old'"
      ]
     },
     "execution_count": 38,
     "metadata": {},
     "output_type": "execute_result"
    }
   ],
   "source": [
    "from string import Template\n",
    "\n",
    "name = \"Karan\"\n",
    "age = 24\n",
    "\n",
    "custom_string = Template(\"Hello, my name is $name and I am $age years old\")\n",
    "\n",
    "custom_string.substitute(name=name, age=age)"
   ]
  },
  {
   "cell_type": "code",
   "execution_count": 39,
   "metadata": {},
   "outputs": [
    {
     "data": {
      "text/plain": [
       "'Hello, my name is Karan and I am 24 years old'"
      ]
     },
     "execution_count": 39,
     "metadata": {},
     "output_type": "execute_result"
    }
   ],
   "source": [
    "from string import Template\n",
    "\n",
    "name = \"Karan\"\n",
    "age = 24\n",
    "\n",
    "custom_string = Template(\"Hello, my name is $abc and I am $vs years old\")\n",
    "\n",
    "custom_string.substitute(abc=name, vs=age)"
   ]
  },
  {
   "attachments": {},
   "cell_type": "markdown",
   "metadata": {},
   "source": [
    "#### Difference between % vs .format() vs f-strings\n",
    "\n",
    "| % Operator  | .format()  | f-strings  |\n",
    "|---|---|---|\n",
    "| It is the slowest way of formatting strings in Python | .format() method is faster than % operator but slower than f-strings.  |  f-strings are the fastest way of formatting strings in Python. |\n",
    "| Also called string formatting operator  | It is also called String interpolation  | Also called formatted string literals  |\n",
    "| Introduces a lot of confusion, makes it hard to understand | Easy to understand and read  | Easy to read and understand  |\n",
    "| % introduced in Python 2.0  | .format introduced in Python 3.0 and backported to Python 2.6 and later  | Introduced in Python 3.6  |\n",
    "\n",
    "\n"
   ]
  },
  {
   "cell_type": "code",
   "execution_count": null,
   "metadata": {},
   "outputs": [],
   "source": []
  }
 ],
 "metadata": {
  "kernelspec": {
   "display_name": "Python 3",
   "language": "python",
   "name": "python3"
  },
  "language_info": {
   "codemirror_mode": {
    "name": "ipython",
    "version": 3
   },
   "file_extension": ".py",
   "mimetype": "text/x-python",
   "name": "python",
   "nbconvert_exporter": "python",
   "pygments_lexer": "ipython3",
   "version": "3.10.7"
  },
  "orig_nbformat": 4,
  "vscode": {
   "interpreter": {
    "hash": "369f2c481f4da34e4445cda3fffd2e751bd1c4d706f27375911949ba6bb62e1c"
   }
  }
 },
 "nbformat": 4,
 "nbformat_minor": 2
}
