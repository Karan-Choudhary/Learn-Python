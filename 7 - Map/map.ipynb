{
 "cells": [
  {
   "attachments": {},
   "cell_type": "markdown",
   "metadata": {},
   "source": [
    "## Map function in python\n",
    "Map function is used to apply a function on all the items in an input iterable objects.\n",
    "\n",
    "Syntax: map(function, iterable, ...)"
   ]
  },
  {
   "attachments": {},
   "cell_type": "markdown",
   "metadata": {},
   "source": [
    "function -> It is a function to which map passes each element of given iterable.\n",
    "\n",
    "iterable -> It is a iterable which is to be mapped.\n",
    "\n",
    "It will return a map object which can be converted to list, set, tuple etc."
   ]
  },
  {
   "cell_type": "code",
   "execution_count": 9,
   "metadata": {},
   "outputs": [
    {
     "name": "stdout",
     "output_type": "stream",
     "text": [
      "<class 'map'>\n"
     ]
    }
   ],
   "source": [
    "# Example1:\n",
    "def f(x):\n",
    "    return x**2\n",
    "\n",
    "do_square = [1,2,3,4,5]\n",
    "\n",
    "result = map(f, do_square)\n",
    "\n",
    "print(type(result))\n",
    "# print(list(result))"
   ]
  },
  {
   "cell_type": "code",
   "execution_count": 11,
   "metadata": {},
   "outputs": [
    {
     "name": "stdout",
     "output_type": "stream",
     "text": [
      "[1, 4, 9, 16, 25]\n"
     ]
    }
   ],
   "source": [
    "print(list(result))"
   ]
  },
  {
   "attachments": {},
   "cell_type": "markdown",
   "metadata": {},
   "source": [
    "map function with lambda function"
   ]
  },
  {
   "cell_type": "code",
   "execution_count": 12,
   "metadata": {},
   "outputs": [
    {
     "data": {
      "text/plain": [
       "[3, 4, 9, 8, 15, 12, 21, 16, 27, 20]"
      ]
     },
     "execution_count": 12,
     "metadata": {},
     "output_type": "execute_result"
    }
   ],
   "source": [
    "# let's consider a list \n",
    "# li = [1,2,3,4,5,6,7,8,9,10]\n",
    "# and we want to double the even numbers and triple the odd numbers\n",
    "li = [1,2,3,4,5,6,7,8,9,10]\n",
    "# new_list = [lambda args = a : args * 2 if args % 2 == 0 else args * 3 for a in li]\n",
    "# new_list = [lambda argum = a : argum * 2 if argum%2==0 else argum*3 for a in li]\n",
    "\n",
    "new_list = list(map(lambda a : a*2 if a%2==0 else a*3, li))\n",
    "new_list"
   ]
  },
  {
   "cell_type": "code",
   "execution_count": 13,
   "metadata": {},
   "outputs": [
    {
     "name": "stdout",
     "output_type": "stream",
     "text": [
      "[5, 7, 9]\n"
     ]
    }
   ],
   "source": [
    "numbers1 = [1, 2, 3]\n",
    "numbers2 = [4, 5, 6]\n",
    "\n",
    "# sum -> 5, 7, 9\n",
    "\n",
    "# result = map(lambda x, y : x+y, numbers1, numbers2)\n",
    "\n",
    "result = map(lambda x, y : x+y, numbers1, numbers2)\n",
    "\n",
    "print(list(result))"
   ]
  },
  {
   "attachments": {},
   "cell_type": "markdown",
   "metadata": {},
   "source": [
    "map can listify the list of string into integers."
   ]
  },
  {
   "cell_type": "code",
   "execution_count": 15,
   "metadata": {},
   "outputs": [
    {
     "data": {
      "text/plain": [
       "['a', 'd', 'a', 'm']"
      ]
     },
     "execution_count": 15,
     "metadata": {},
     "output_type": "execute_result"
    }
   ],
   "source": [
    "st = list('adam')\n",
    "st"
   ]
  },
  {
   "cell_type": "code",
   "execution_count": 16,
   "metadata": {},
   "outputs": [
    {
     "name": "stdout",
     "output_type": "stream",
     "text": [
      "[['a', 'd', 'a', 'm'], ['j', 'o', 'e'], ['j', 'a', 'n', 'e']]\n"
     ]
    }
   ],
   "source": [
    "names = ['adam', 'joe', 'jane']\n",
    "\n",
    "#  output = [['a', 'd', 'a', 'm'], ['j', 'o', 'e'], ['j', 'a', 'n', 'e']]\n",
    "\n",
    "listified_names = list(map(list, names))\n",
    "print(listified_names)"
   ]
  },
  {
   "cell_type": "code",
   "execution_count": 17,
   "metadata": {},
   "outputs": [
    {
     "name": "stdout",
     "output_type": "stream",
     "text": [
      "['adam smith', 'joe abc', 'jane xyz']\n"
     ]
    }
   ],
   "source": [
    "first_names = ['adam', 'joe', 'jane']\n",
    "second_names = ['smith', 'abc', 'xyz']\n",
    "\n",
    "full_names = list(map(lambda x, y : x + ' ' + y, first_names, second_names))\n",
    "print(full_names)"
   ]
  },
  {
   "cell_type": "code",
   "execution_count": 18,
   "metadata": {},
   "outputs": [
    {
     "name": "stdout",
     "output_type": "stream",
     "text": [
      "['adam smith', 'joe abc', 'jane xyz']\n"
     ]
    }
   ],
   "source": [
    "def add_string(x,y):\n",
    "    return x+' '+y\n",
    "\n",
    "first = ['adam', 'joe', 'jane']\n",
    "second = ['smith', 'abc', 'xyz']\n",
    "\n",
    "full = list(map(add_string, first, second))\n",
    "\n",
    "print(full)"
   ]
  },
  {
   "cell_type": "code",
   "execution_count": null,
   "metadata": {},
   "outputs": [],
   "source": []
  }
 ],
 "metadata": {
  "kernelspec": {
   "display_name": "Python 3",
   "language": "python",
   "name": "python3"
  },
  "language_info": {
   "codemirror_mode": {
    "name": "ipython",
    "version": 3
   },
   "file_extension": ".py",
   "mimetype": "text/x-python",
   "name": "python",
   "nbconvert_exporter": "python",
   "pygments_lexer": "ipython3",
   "version": "3.10.7"
  },
  "orig_nbformat": 4,
  "vscode": {
   "interpreter": {
    "hash": "369f2c481f4da34e4445cda3fffd2e751bd1c4d706f27375911949ba6bb62e1c"
   }
  }
 },
 "nbformat": 4,
 "nbformat_minor": 2
}
