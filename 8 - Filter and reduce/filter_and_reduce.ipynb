{
 "cells": [
  {
   "attachments": {},
   "cell_type": "markdown",
   "metadata": {},
   "source": [
    "## Filter function in python\n",
    "Filter function is used to filter the data from the list or tuple or set or dictionary.\n",
    "\n",
    "Syntax: \n",
    "    \n",
    "    filter(function, iterable)\n",
    "\n",
    "function -> It is a function which is used to filter the data from the iterable.\n",
    "iterable -> It is a list, tuple, set or dictionary which needs to be filtered.\n",
    "\n",
    "return -> It returns the filter object."
   ]
  },
  {
   "cell_type": "code",
   "execution_count": 2,
   "metadata": {},
   "outputs": [
    {
     "name": "stdout",
     "output_type": "stream",
     "text": [
      "[2, 4, 6, 8, 10]\n"
     ]
    }
   ],
   "source": [
    "# Example 1: Filter a list of numbers\n",
    "# Filters the list of numbers to only include even numbers\n",
    "\n",
    "def filter_even(number):\n",
    "    if number % 2 == 0:\n",
    "        return True\n",
    "    else :\n",
    "        return False\n",
    "    \n",
    "numbers = [1, 2, 3, 4, 5, 6, 7, 8, 9, 10]\n",
    "\n",
    "filtered_result = filter(filter_even, numbers)\n",
    "\n",
    "print(list(filtered_result))"
   ]
  },
  {
   "attachments": {},
   "cell_type": "markdown",
   "metadata": {},
   "source": [
    "filter with lambda"
   ]
  },
  {
   "cell_type": "code",
   "execution_count": 3,
   "metadata": {},
   "outputs": [
    {
     "name": "stdout",
     "output_type": "stream",
     "text": [
      "[2, 4, 6, 8, 10]\n"
     ]
    }
   ],
   "source": [
    "numbers = [1, 2, 3, 4, 5, 6, 7, 8, 9, 10]\n",
    "filtered_result = list(filter(lambda number: number % 2 == 0, numbers))\n",
    "print(filtered_result)"
   ]
  },
  {
   "cell_type": "code",
   "execution_count": 4,
   "metadata": {},
   "outputs": [
    {
     "name": "stdout",
     "output_type": "stream",
     "text": [
      "[55, 60, 70, 80, 90, 100, 110, 120, 130]\n"
     ]
    }
   ],
   "source": [
    "# Example 2:\n",
    "# Consider a list of weights in kgs\n",
    "# and we want only the weights greater than 50 kgs\n",
    "\n",
    "def filter_weights(weight):\n",
    "    if weight > 50:\n",
    "        return True\n",
    "    else:\n",
    "        return False\n",
    "    \n",
    "weights = [45, 55, 60, 70, 80, 90, 100, 110, 120, 130]\n",
    "\n",
    "result = list(filter(filter_weights, weights))\n",
    "\n",
    "print(result)"
   ]
  },
  {
   "attachments": {},
   "cell_type": "markdown",
   "metadata": {},
   "source": [
    "## Reduce function in python\n",
    "The reduce(fun,seq) function is used to apply a particular function passed in its argument to all of the list elements mentioned in the sequence passed along.This function is defined in “functools” module.\n",
    "\n",
    "First, first two elements of sequence are picked and the result is obtained. Next, the result is picked with the third element and the result is obtained. This process continues till no more elements are left in the container.\n",
    "\n",
    "SYNTAX: \n",
    "\n",
    "    reduce(function, sequence)\n",
    "\n",
    "function -> It is a function that is used to reduce the data from the iterable.\n",
    "sequence -> It is a list, tuple, set or dictionary which needs to be reduced.\n",
    "\n",
    "return -> It returns the reduced value."
   ]
  },
  {
   "cell_type": "code",
   "execution_count": 5,
   "metadata": {},
   "outputs": [],
   "source": [
    "import functools"
   ]
  },
  {
   "cell_type": "code",
   "execution_count": 6,
   "metadata": {},
   "outputs": [
    {
     "name": "stdout",
     "output_type": "stream",
     "text": [
      "55\n"
     ]
    }
   ],
   "source": [
    "# Example 1:\n",
    "# Consider you want to find the sum of all the numbers in a list\n",
    "#  1st call -> 1 , 2 -> 3\n",
    "# 2nd call -> 3 , 3_element -> 6\n",
    "# 3rd call -> 6 , 4_element -> 10\n",
    "numbers =  [1, 2, 3, 4, 5, 6, 7, 8, 9, 10]\n",
    "\n",
    "sum_ = functools.reduce(lambda x, y: x+y, numbers)\n",
    "print(sum_)"
   ]
  },
  {
   "cell_type": "code",
   "execution_count": 7,
   "metadata": {},
   "outputs": [
    {
     "name": "stdout",
     "output_type": "stream",
     "text": [
      "9\n"
     ]
    }
   ],
   "source": [
    "# Example 2:\n",
    "# Suppose you want to find out the minimum number in a list\n",
    "\n",
    "# list of random numbers\n",
    "numbers = [23, 45, 67, 89, 9, 34, 56, 78, 90, 11]\n",
    "\n",
    "minimum = functools.reduce(lambda x, y: x if x < y else y, numbers)\n",
    "\n",
    "print(minimum)"
   ]
  },
  {
   "attachments": {},
   "cell_type": "markdown",
   "metadata": {},
   "source": [
    "reduce function with 3 arguments"
   ]
  },
  {
   "cell_type": "code",
   "execution_count": 9,
   "metadata": {},
   "outputs": [
    {
     "name": "stdout",
     "output_type": "stream",
     "text": [
      "10\n"
     ]
    }
   ],
   "source": [
    "numbers = [1,2,3]\n",
    "\n",
    "# 1call -> 10, 1 -> 11\n",
    "# 2call -> 11, 2 -> 13\n",
    "# 3call -> 13, 3 -> 16\n",
    "sum_ = functools.reduce(lambda x, y : x+y, [], 10)\n",
    "\n",
    "print(sum_)"
   ]
  },
  {
   "attachments": {},
   "cell_type": "markdown",
   "metadata": {},
   "source": [
    "#### reduce function with operator module\n",
    "\n",
    "operator module is used to perform the mathematical operations and logical operations, and if we combine it with reduce function then we can perform the mathematical operations on the list or tuple or set or dictionary.\n"
   ]
  },
  {
   "cell_type": "code",
   "execution_count": 10,
   "metadata": {},
   "outputs": [
    {
     "name": "stdout",
     "output_type": "stream",
     "text": [
      "Sum:  502\n",
      "Multiplication:  8166658773873600\n"
     ]
    }
   ],
   "source": [
    "import operator\n",
    "import functools\n",
    "\n",
    "numbers = [23, 45, 67, 89, 9, 34, 56, 78, 90, 11]\n",
    "\n",
    "sum_ = functools.reduce(operator.add, numbers)\n",
    "multiplication = functools.reduce(operator.mul, numbers)\n",
    "\n",
    "\n",
    "print(\"Sum: \", sum_)\n",
    "print(\"Multiplication: \", multiplication)"
   ]
  },
  {
   "cell_type": "code",
   "execution_count": 12,
   "metadata": {},
   "outputs": [
    {
     "name": "stdout",
     "output_type": "stream",
     "text": [
      "karan Choudhary Data Scientist \n"
     ]
    }
   ],
   "source": [
    "string = [\"karan \", \"Choudhary \", \"Data \", \"Scientist \"]\n",
    "\n",
    "output = functools.reduce(operator.add, string)\n",
    "print(output)"
   ]
  },
  {
   "cell_type": "code",
   "execution_count": null,
   "metadata": {},
   "outputs": [],
   "source": []
  }
 ],
 "metadata": {
  "kernelspec": {
   "display_name": "Python 3",
   "language": "python",
   "name": "python3"
  },
  "language_info": {
   "codemirror_mode": {
    "name": "ipython",
    "version": 3
   },
   "file_extension": ".py",
   "mimetype": "text/x-python",
   "name": "python",
   "nbconvert_exporter": "python",
   "pygments_lexer": "ipython3",
   "version": "3.10.7"
  },
  "orig_nbformat": 4,
  "vscode": {
   "interpreter": {
    "hash": "369f2c481f4da34e4445cda3fffd2e751bd1c4d706f27375911949ba6bb62e1c"
   }
  }
 },
 "nbformat": 4,
 "nbformat_minor": 2
}
